{
 "cells": [
  {
   "cell_type": "code",
   "execution_count": null,
   "metadata": {},
   "outputs": [],
   "source": [
    "from llama_index.llms import HuggingFaceLLM\n",
    "from llama_index.retrievers import VectorIndexRetriever\n",
    "from llama_index.query_engine import RetrieverQueryEngine\n",
    "from llama_index import (\n",
    "    StorageContext, \n",
    "    load_index_from_storage,\n",
    "    VectorStoreIndex,\n",
    "    SimpleDirectoryReader,\n",
    "    ServiceContext)"
   ]
  },
  {
   "cell_type": "code",
   "execution_count": null,
   "metadata": {},
   "outputs": [],
   "source": [
    "# Using model from https://huggingface.co/Writer/palmyra-small\n",
    "DEFAULT_MODEL_NAME = \"Writer/palmyra-small\""
   ]
  },
  {
   "cell_type": "markdown",
   "metadata": {},
   "source": [
    "### Create a new model and use it to create embeddings based on files in directory /data"
   ]
  },
  {
   "cell_type": "code",
   "execution_count": null,
   "metadata": {},
   "outputs": [],
   "source": [
    "# Initialize local model from Huggingface\n",
    "llm = HuggingFaceLLM(\n",
    "    model_name=DEFAULT_MODEL_NAME,\n",
    "    tokenizer_name=DEFAULT_MODEL_NAME)\n",
    "\n",
    "# Create local service context\n",
    "service_context = ServiceContext.from_defaults(\n",
    "    llm=llm, embed_model=\"local\")\n",
    "\n",
    "# Read all docs from directory \"/data\"\n",
    "documents = SimpleDirectoryReader(\"data\").load_data()\n",
    "\n",
    "# Create index based on documents using local llm\n",
    "index = VectorStoreIndex.from_documents(\n",
    "    documents, service_context=service_context, llm=llm)\n",
    "\n",
    "# Store index locally in directory \"/index\", delete current index for demonstration purpose\n",
    "index.storage_context.persist(persist_dir=\"index\")\n",
    "del index"
   ]
  },
  {
   "cell_type": "markdown",
   "metadata": {},
   "source": [
    "### Load index from directory /index into memory"
   ]
  },
  {
   "cell_type": "code",
   "execution_count": null,
   "metadata": {},
   "outputs": [],
   "source": [
    "# Load index from directory \"/index\"\n",
    "storage_context = StorageContext.from_defaults(persist_dir=\"index\")\n",
    "index = load_index_from_storage(\n",
    "    storage_context=storage_context, service_context=service_context)\n",
    "\n",
    "# Create a retriever\n",
    "retriever = VectorIndexRetriever(\n",
    "    index=index,\n",
    "    service_context=service_context)\n",
    "\n",
    "# Build engine to retrieve data from vector store\n",
    "query_engine = RetrieverQueryEngine.from_args(\n",
    "    retriever, service_context=service_context)"
   ]
  },
  {
   "cell_type": "markdown",
   "metadata": {},
   "source": [
    "### Answer question based on embedded data"
   ]
  },
  {
   "cell_type": "code",
   "execution_count": null,
   "metadata": {},
   "outputs": [],
   "source": [
    "# Create response to a question\n",
    "user_query = \"Who is Sir Reginald?\"\n",
    "\n",
    "response = query_engine.query(user_query)\n",
    "print(response)"
   ]
  }
 ],
 "metadata": {
  "kernelspec": {
   "display_name": "offlineRAG",
   "language": "python",
   "name": "python3"
  },
  "language_info": {
   "codemirror_mode": {
    "name": "ipython",
    "version": 3
   },
   "file_extension": ".py",
   "mimetype": "text/x-python",
   "name": "python",
   "nbconvert_exporter": "python",
   "pygments_lexer": "ipython3",
   "version": "3.8.18"
  }
 },
 "nbformat": 4,
 "nbformat_minor": 2
}
